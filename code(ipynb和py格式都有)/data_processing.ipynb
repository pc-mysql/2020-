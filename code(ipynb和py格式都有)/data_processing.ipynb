{
 "cells": [
  {
   "cell_type": "code",
   "execution_count": 63,
   "metadata": {
    "collapsed": true
   },
   "outputs": [],
   "source": []
  },
  {
   "cell_type": "code",
   "execution_count": 64,
   "outputs": [],
   "source": [
    "import nltk\n",
    "from nltk.corpus import stopwords\n",
    "# physical_devices = tf.config.list_physical_devices('GPU')\n",
    "# tf.config.experimental.set_memory_growth(physical_devices[0], enable=True)\n",
    "import os\n",
    "from datetime import datetime\n",
    "\n",
    "from sklearn.preprocessing import MinMaxScaler\n",
    "os.chdir(r'C:\\Users\\90930\\Desktop\\美赛建模\\2020年')\n",
    "import pandas as pd\n",
    "import matplotlib.pyplot as plt\n",
    "import matplotlib\n",
    "from seaborn import color_palette\n",
    "\n",
    "plt.rcParams['savefig.dpi'] = 300 #图片像素\n",
    "plt.rcParams['figure.dpi'] = 300 #分辨率\n",
    "font = {'family' : 'serif',   #将所有字体改变为粗体 serif\n",
    "}\n",
    "matplotlib.rc('font', **font)\n",
    "import missingno\n",
    "import matplotlib.pyplot as plt\n",
    "import seaborn as sns\n",
    "import matplotlib\n",
    "#读取数据\n",
    "hair = pd.read_csv(\"hair_dryer.tsv\", sep=\"\\t\", )\n",
    "microwave = pd.read_csv(\"microwave.tsv\", sep=\"\\t\")\n",
    "pac = pd.read_csv(\"pacifier.tsv\", sep=\"\\t\")\n"
   ],
   "metadata": {
    "collapsed": false,
    "pycharm": {
     "name": "#%%import data and library\n"
    }
   }
  },
  {
   "cell_type": "code",
   "execution_count": 65,
   "outputs": [
    {
     "name": "stdout",
     "output_type": "stream",
     "text": [
      "<class 'pandas.core.frame.DataFrame'>\n",
      "RangeIndex: 11470 entries, 0 to 11469\n",
      "Data columns (total 15 columns):\n",
      " #   Column             Non-Null Count  Dtype \n",
      "---  ------             --------------  ----- \n",
      " 0       marketplace    11470 non-null  object\n",
      " 1   customer_id        11470 non-null  int64 \n",
      " 2   review_id          11470 non-null  object\n",
      " 3   product_id         11470 non-null  object\n",
      " 4   product_parent     11470 non-null  int64 \n",
      " 5   product_title      11470 non-null  object\n",
      " 6   product_category   11470 non-null  object\n",
      " 7   star_rating        11470 non-null  int64 \n",
      " 8   helpful_votes      11470 non-null  int64 \n",
      " 9   total_votes        11470 non-null  int64 \n",
      " 10  vine               11470 non-null  object\n",
      " 11  verified_purchase  11470 non-null  object\n",
      " 12  review_headline    11468 non-null  object\n",
      " 13  review_body        11470 non-null  object\n",
      " 14  review_date        11470 non-null  object\n",
      "dtypes: int64(5), object(10)\n",
      "memory usage: 1.3+ MB\n",
      "None\n",
      "        customer_id  product_parent   star_rating  helpful_votes   total_votes\n",
      "count  1.147000e+04    1.147000e+04  11470.000000   11470.000000  11470.000000\n",
      "mean   2.815122e+07    4.846338e+08      4.116042       2.179076      2.563296\n",
      "std    1.523877e+07    2.873240e+08      1.300333      14.241304     15.382528\n",
      "min    1.246400e+04    4.239600e+05      1.000000       0.000000      0.000000\n",
      "25%    1.491441e+07    2.351060e+08      4.000000       0.000000      0.000000\n",
      "50%    2.707123e+07    4.867740e+08      5.000000       0.000000      0.000000\n",
      "75%    4.233644e+07    7.322523e+08      5.000000       1.000000      1.000000\n",
      "max    5.309637e+07    9.994366e+08      5.000000     499.000000    575.000000\n",
      "    marketplace          1\n",
      "customer_id          11348\n",
      "review_id            11470\n",
      "product_id             538\n",
      "product_parent         473\n",
      "product_title          503\n",
      "product_category         1\n",
      "star_rating              5\n",
      "helpful_votes          111\n",
      "total_votes            119\n",
      "vine                     2\n",
      "verified_purchase        2\n",
      "review_headline       7696\n",
      "review_body          11197\n",
      "review_date           2307\n",
      "dtype: int64\n"
     ]
    }
   ],
   "source": [
    "print(hair.info()) #\n",
    "print(hair.describe()) #\n",
    "print(hair.nunique())  #打印"
   ],
   "metadata": {
    "collapsed": false,
    "pycharm": {
     "name": "#%%打印数据分布和信息\n"
    }
   }
  },
  {
   "cell_type": "code",
   "execution_count": 66,
   "outputs": [],
   "source": [
    "hair= hair[hair['verified_purchase']=='Y'] #删除\n"
   ],
   "metadata": {
    "collapsed": false,
    "pycharm": {
     "name": "#%%data cleaning\n"
    }
   }
  },
  {
   "cell_type": "code",
   "execution_count": 67,
   "outputs": [
    {
     "name": "stdout",
     "output_type": "stream",
     "text": [
      "['i', 'me', 'my', 'myself', 'we', 'our', 'ours', 'ourselves', 'you', \"you're\", \"you've\", \"you'll\", \"you'd\", 'your', 'yours', 'yourself', 'yourselves', 'he', 'him', 'his', 'himself', 'she', \"she's\", 'her', 'hers', 'herself', 'it', \"it's\", 'its', 'itself', 'they', 'them', 'their', 'theirs', 'themselves', 'what', 'which', 'who', 'whom', 'this', 'that', \"that'll\", 'these', 'those', 'am', 'is', 'are', 'was', 'were', 'be', 'been', 'being', 'have', 'has', 'had', 'having', 'do', 'does', 'did', 'doing', 'a', 'an', 'the', 'and', 'but', 'if', 'or', 'because', 'as', 'until', 'while', 'of', 'at', 'by', 'for', 'with', 'about', 'against', 'between', 'into', 'through', 'during', 'before', 'after', 'above', 'below', 'to', 'from', 'up', 'down', 'in', 'out', 'on', 'off', 'over', 'under', 'again', 'further', 'then', 'once', 'here', 'there', 'when', 'where', 'why', 'how', 'all', 'any', 'both', 'each', 'few', 'more', 'most', 'other', 'some', 'such', 'no', 'nor', 'not', 'only', 'own', 'same', 'so', 'than', 'too', 'very', 's', 't', 'can', 'will', 'just', 'don', \"don't\", 'should', \"should've\", 'now', 'd', 'll', 'm', 'o', 're', 've', 'y', 'ain', 'aren', \"aren't\", 'couldn', \"couldn't\", 'didn', \"didn't\", 'doesn', \"doesn't\", 'hadn', \"hadn't\", 'hasn', \"hasn't\", 'haven', \"haven't\", 'isn', \"isn't\", 'ma', 'mightn', \"mightn't\", 'mustn', \"mustn't\", 'needn', \"needn't\", 'shan', \"shan't\", 'shouldn', \"shouldn't\", 'wasn', \"wasn't\", 'weren', \"weren't\", 'won', \"won't\", 'wouldn', \"wouldn't\"]\n",
      "I love this dryer not only is it QUIET, it really does make my hair shiny and silky.  I bought this because I simply needed a dryer and thought if it could do anything else it would just be a bonus.   I have straight hair which tends to be more shiney than layered, I liked how my hair felt-particularly here where it can be extremely humid. I was pleasantly surprised.  Although another reviewer found the weight a problem, it was no heavier than my old dryer. I love it!!!!\n",
      "love dryer quiet, realli make hair shini silky.  bought simpli need dryer thought could anyth els would bonus.   straight hair tend shiney layered, like hair felt-particular extrem humid. pleasant surprised.  although anoth review found weight problem, heavier old dryer. love it!!!!\n"
     ]
    }
   ],
   "source": [
    "stop_words = stopwords.words(\"english\")\n",
    "wnl = nltk.WordNetLemmatizer()\n",
    "stemmer = nltk.SnowballStemmer(\"english\")  #也就是\n",
    "tokens = []\n",
    "print(stop_words)\n",
    "#预处理函数  进行停顿词删除与词根提取\n",
    "def preprocess(text):           #训练可以加入别的东西，自己选择\n",
    "    tokens = []\n",
    "    words = text.split(' ')#也就是这个东西如果不是在stop_words中的话，进行一部分操作\n",
    "    for token in words:  # for token in words,也就是如果不存在一个东西可以使用，\n",
    "        token = token.lower()\n",
    "        if token not in stop_words:\n",
    "                tokens.append(stemmer.stem(token))\n",
    "    return \" \".join(tokens)\n",
    "    #得到了一堆列表的列表\n",
    "print(hair['review_body'][11467])\n",
    "hair['review_body'] = hair['review_body'].apply(lambda x:preprocess(x))\n",
    "print(hair['review_body'][11467])"
   ],
   "metadata": {
    "collapsed": false,
    "pycharm": {
     "name": "#%%text_processing\n"
    }
   }
  },
  {
   "cell_type": "code",
   "execution_count": null,
   "outputs": [],
   "source": [],
   "metadata": {
    "collapsed": false,
    "pycharm": {
     "name": "#%%词云图\n"
    }
   }
  }
 ],
 "metadata": {
  "kernelspec": {
   "name": "pycharm-aad59558",
   "language": "python",
   "display_name": "PyCharm (2020年)"
  },
  "language_info": {
   "codemirror_mode": {
    "name": "ipython",
    "version": 2
   },
   "file_extension": ".py",
   "mimetype": "text/x-python",
   "name": "python",
   "nbconvert_exporter": "python",
   "pygments_lexer": "ipython2",
   "version": "2.7.6"
  }
 },
 "nbformat": 4,
 "nbformat_minor": 0
}